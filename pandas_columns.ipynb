{
  "nbformat": 4,
  "nbformat_minor": 0,
  "metadata": {
    "colab": {
      "name": "pandas_columns.ipynb",
      "provenance": [],
      "authorship_tag": "ABX9TyM8Rvsz7YalVbk+CaV+EuMD",
      "include_colab_link": true
    },
    "kernelspec": {
      "name": "python3",
      "display_name": "Python 3"
    },
    "language_info": {
      "name": "python"
    }
  },
  "cells": [
    {
      "cell_type": "markdown",
      "metadata": {
        "id": "view-in-github",
        "colab_type": "text"
      },
      "source": [
        "<a href=\"https://colab.research.google.com/github/cynthia919/pandas/blob/main/pandas_columns.ipynb\" target=\"_parent\"><img src=\"https://colab.research.google.com/assets/colab-badge.svg\" alt=\"Open In Colab\"/></a>"
      ]
    },
    {
      "cell_type": "markdown",
      "metadata": {
        "id": "cON_WC7m_Zpk"
      },
      "source": [
        "## Three ways to change the column index in pandas"
      ]
    },
    {
      "cell_type": "code",
      "metadata": {
        "id": "7m7jdUPO_YOy"
      },
      "source": [
        "import numpy as np\n",
        "import pandas as pd"
      ],
      "execution_count": 1,
      "outputs": []
    },
    {
      "cell_type": "code",
      "metadata": {
        "colab": {
          "base_uri": "https://localhost:8080/",
          "height": 205
        },
        "id": "BlWFOLC7_ysq",
        "outputId": "8c0805eb-567e-4c22-81d4-c60882ad75ac"
      },
      "source": [
        "student = ['A','B','C','D','E']\n",
        "column_name = ['Course1','Course2','Course3','Course4','Course5']\n",
        "score = np.random.randint(0,high=100,size=(5,5))\n",
        "df = pd.DataFrame(data=score, columns=column_name, index=student)\n",
        "df"
      ],
      "execution_count": 5,
      "outputs": [
        {
          "output_type": "execute_result",
          "data": {
            "text/html": [
              "<div>\n",
              "<style scoped>\n",
              "    .dataframe tbody tr th:only-of-type {\n",
              "        vertical-align: middle;\n",
              "    }\n",
              "\n",
              "    .dataframe tbody tr th {\n",
              "        vertical-align: top;\n",
              "    }\n",
              "\n",
              "    .dataframe thead th {\n",
              "        text-align: right;\n",
              "    }\n",
              "</style>\n",
              "<table border=\"1\" class=\"dataframe\">\n",
              "  <thead>\n",
              "    <tr style=\"text-align: right;\">\n",
              "      <th></th>\n",
              "      <th>Course1</th>\n",
              "      <th>Course2</th>\n",
              "      <th>Course3</th>\n",
              "      <th>Course4</th>\n",
              "      <th>Course5</th>\n",
              "    </tr>\n",
              "  </thead>\n",
              "  <tbody>\n",
              "    <tr>\n",
              "      <th>A</th>\n",
              "      <td>71</td>\n",
              "      <td>47</td>\n",
              "      <td>37</td>\n",
              "      <td>87</td>\n",
              "      <td>75</td>\n",
              "    </tr>\n",
              "    <tr>\n",
              "      <th>B</th>\n",
              "      <td>42</td>\n",
              "      <td>42</td>\n",
              "      <td>23</td>\n",
              "      <td>15</td>\n",
              "      <td>24</td>\n",
              "    </tr>\n",
              "    <tr>\n",
              "      <th>C</th>\n",
              "      <td>30</td>\n",
              "      <td>73</td>\n",
              "      <td>6</td>\n",
              "      <td>25</td>\n",
              "      <td>82</td>\n",
              "    </tr>\n",
              "    <tr>\n",
              "      <th>D</th>\n",
              "      <td>32</td>\n",
              "      <td>20</td>\n",
              "      <td>66</td>\n",
              "      <td>61</td>\n",
              "      <td>41</td>\n",
              "    </tr>\n",
              "    <tr>\n",
              "      <th>E</th>\n",
              "      <td>58</td>\n",
              "      <td>9</td>\n",
              "      <td>19</td>\n",
              "      <td>37</td>\n",
              "      <td>2</td>\n",
              "    </tr>\n",
              "  </tbody>\n",
              "</table>\n",
              "</div>"
            ],
            "text/plain": [
              "   Course1  Course2  Course3  Course4  Course5\n",
              "A       71       47       37       87       75\n",
              "B       42       42       23       15       24\n",
              "C       30       73        6       25       82\n",
              "D       32       20       66       61       41\n",
              "E       58        9       19       37        2"
            ]
          },
          "metadata": {},
          "execution_count": 5
        }
      ]
    },
    {
      "cell_type": "markdown",
      "metadata": {
        "id": "b-9NWDTh_iyW"
      },
      "source": [
        "* Reverse the columns"
      ]
    },
    {
      "cell_type": "code",
      "metadata": {
        "colab": {
          "base_uri": "https://localhost:8080/",
          "height": 205
        },
        "id": "AhF60NW_BTMM",
        "outputId": "bb68c04d-56d6-44c3-cc2e-ba1333d5c695"
      },
      "source": [
        "reversed_column_name = df.columns[::-1]\n",
        "reversed_df = df[reversed_column_name]\n",
        "reversed_df"
      ],
      "execution_count": 6,
      "outputs": [
        {
          "output_type": "execute_result",
          "data": {
            "text/html": [
              "<div>\n",
              "<style scoped>\n",
              "    .dataframe tbody tr th:only-of-type {\n",
              "        vertical-align: middle;\n",
              "    }\n",
              "\n",
              "    .dataframe tbody tr th {\n",
              "        vertical-align: top;\n",
              "    }\n",
              "\n",
              "    .dataframe thead th {\n",
              "        text-align: right;\n",
              "    }\n",
              "</style>\n",
              "<table border=\"1\" class=\"dataframe\">\n",
              "  <thead>\n",
              "    <tr style=\"text-align: right;\">\n",
              "      <th></th>\n",
              "      <th>Course5</th>\n",
              "      <th>Course4</th>\n",
              "      <th>Course3</th>\n",
              "      <th>Course2</th>\n",
              "      <th>Course1</th>\n",
              "    </tr>\n",
              "  </thead>\n",
              "  <tbody>\n",
              "    <tr>\n",
              "      <th>A</th>\n",
              "      <td>75</td>\n",
              "      <td>87</td>\n",
              "      <td>37</td>\n",
              "      <td>47</td>\n",
              "      <td>71</td>\n",
              "    </tr>\n",
              "    <tr>\n",
              "      <th>B</th>\n",
              "      <td>24</td>\n",
              "      <td>15</td>\n",
              "      <td>23</td>\n",
              "      <td>42</td>\n",
              "      <td>42</td>\n",
              "    </tr>\n",
              "    <tr>\n",
              "      <th>C</th>\n",
              "      <td>82</td>\n",
              "      <td>25</td>\n",
              "      <td>6</td>\n",
              "      <td>73</td>\n",
              "      <td>30</td>\n",
              "    </tr>\n",
              "    <tr>\n",
              "      <th>D</th>\n",
              "      <td>41</td>\n",
              "      <td>61</td>\n",
              "      <td>66</td>\n",
              "      <td>20</td>\n",
              "      <td>32</td>\n",
              "    </tr>\n",
              "    <tr>\n",
              "      <th>E</th>\n",
              "      <td>2</td>\n",
              "      <td>37</td>\n",
              "      <td>19</td>\n",
              "      <td>9</td>\n",
              "      <td>58</td>\n",
              "    </tr>\n",
              "  </tbody>\n",
              "</table>\n",
              "</div>"
            ],
            "text/plain": [
              "   Course5  Course4  Course3  Course2  Course1\n",
              "A       75       87       37       47       71\n",
              "B       24       15       23       42       42\n",
              "C       82       25        6       73       30\n",
              "D       41       61       66       20       32\n",
              "E        2       37       19        9       58"
            ]
          },
          "metadata": {},
          "execution_count": 6
        }
      ]
    },
    {
      "cell_type": "markdown",
      "metadata": {
        "id": "0Yo9TgopCfST"
      },
      "source": [
        "* Shift the last column to the first column"
      ]
    },
    {
      "cell_type": "code",
      "metadata": {
        "colab": {
          "base_uri": "https://localhost:8080/",
          "height": 205
        },
        "id": "h3-SxFBNCdJO",
        "outputId": "29548846-2461-4dfa-add7-66c869acb31c"
      },
      "source": [
        "rolled_column_name = np.roll(df.columns,1) # np.roll(df.columns,-1) \n",
        "rolled_df = df[rolled_column_name]\n",
        "rolled_df"
      ],
      "execution_count": 8,
      "outputs": [
        {
          "output_type": "execute_result",
          "data": {
            "text/html": [
              "<div>\n",
              "<style scoped>\n",
              "    .dataframe tbody tr th:only-of-type {\n",
              "        vertical-align: middle;\n",
              "    }\n",
              "\n",
              "    .dataframe tbody tr th {\n",
              "        vertical-align: top;\n",
              "    }\n",
              "\n",
              "    .dataframe thead th {\n",
              "        text-align: right;\n",
              "    }\n",
              "</style>\n",
              "<table border=\"1\" class=\"dataframe\">\n",
              "  <thead>\n",
              "    <tr style=\"text-align: right;\">\n",
              "      <th></th>\n",
              "      <th>Course5</th>\n",
              "      <th>Course1</th>\n",
              "      <th>Course2</th>\n",
              "      <th>Course3</th>\n",
              "      <th>Course4</th>\n",
              "    </tr>\n",
              "  </thead>\n",
              "  <tbody>\n",
              "    <tr>\n",
              "      <th>A</th>\n",
              "      <td>75</td>\n",
              "      <td>71</td>\n",
              "      <td>47</td>\n",
              "      <td>37</td>\n",
              "      <td>87</td>\n",
              "    </tr>\n",
              "    <tr>\n",
              "      <th>B</th>\n",
              "      <td>24</td>\n",
              "      <td>42</td>\n",
              "      <td>42</td>\n",
              "      <td>23</td>\n",
              "      <td>15</td>\n",
              "    </tr>\n",
              "    <tr>\n",
              "      <th>C</th>\n",
              "      <td>82</td>\n",
              "      <td>30</td>\n",
              "      <td>73</td>\n",
              "      <td>6</td>\n",
              "      <td>25</td>\n",
              "    </tr>\n",
              "    <tr>\n",
              "      <th>D</th>\n",
              "      <td>41</td>\n",
              "      <td>32</td>\n",
              "      <td>20</td>\n",
              "      <td>66</td>\n",
              "      <td>61</td>\n",
              "    </tr>\n",
              "    <tr>\n",
              "      <th>E</th>\n",
              "      <td>2</td>\n",
              "      <td>58</td>\n",
              "      <td>9</td>\n",
              "      <td>19</td>\n",
              "      <td>37</td>\n",
              "    </tr>\n",
              "  </tbody>\n",
              "</table>\n",
              "</div>"
            ],
            "text/plain": [
              "   Course5  Course1  Course2  Course3  Course4\n",
              "A       75       71       47       37       87\n",
              "B       24       42       42       23       15\n",
              "C       82       30       73        6       25\n",
              "D       41       32       20       66       61\n",
              "E        2       58        9       19       37"
            ]
          },
          "metadata": {},
          "execution_count": 8
        }
      ]
    },
    {
      "cell_type": "markdown",
      "metadata": {
        "id": "Xq_SLXp2DtPy"
      },
      "source": [
        "* Swap two columns"
      ]
    },
    {
      "cell_type": "code",
      "metadata": {
        "colab": {
          "base_uri": "https://localhost:8080/",
          "height": 205
        },
        "id": "iDH2olFjDDHt",
        "outputId": "5e26031b-d165-4f54-9620-201afd510dc5"
      },
      "source": [
        "column_title = list(df.columns) \n",
        "column_title[-2], column_title[-1] = column_title[-1], column_title[-2]\n",
        "swapped_df = df.reindex(columns=column_title)\n",
        "swapped_df"
      ],
      "execution_count": 9,
      "outputs": [
        {
          "output_type": "execute_result",
          "data": {
            "text/html": [
              "<div>\n",
              "<style scoped>\n",
              "    .dataframe tbody tr th:only-of-type {\n",
              "        vertical-align: middle;\n",
              "    }\n",
              "\n",
              "    .dataframe tbody tr th {\n",
              "        vertical-align: top;\n",
              "    }\n",
              "\n",
              "    .dataframe thead th {\n",
              "        text-align: right;\n",
              "    }\n",
              "</style>\n",
              "<table border=\"1\" class=\"dataframe\">\n",
              "  <thead>\n",
              "    <tr style=\"text-align: right;\">\n",
              "      <th></th>\n",
              "      <th>Course1</th>\n",
              "      <th>Course2</th>\n",
              "      <th>Course3</th>\n",
              "      <th>Course5</th>\n",
              "      <th>Course4</th>\n",
              "    </tr>\n",
              "  </thead>\n",
              "  <tbody>\n",
              "    <tr>\n",
              "      <th>A</th>\n",
              "      <td>71</td>\n",
              "      <td>47</td>\n",
              "      <td>37</td>\n",
              "      <td>75</td>\n",
              "      <td>87</td>\n",
              "    </tr>\n",
              "    <tr>\n",
              "      <th>B</th>\n",
              "      <td>42</td>\n",
              "      <td>42</td>\n",
              "      <td>23</td>\n",
              "      <td>24</td>\n",
              "      <td>15</td>\n",
              "    </tr>\n",
              "    <tr>\n",
              "      <th>C</th>\n",
              "      <td>30</td>\n",
              "      <td>73</td>\n",
              "      <td>6</td>\n",
              "      <td>82</td>\n",
              "      <td>25</td>\n",
              "    </tr>\n",
              "    <tr>\n",
              "      <th>D</th>\n",
              "      <td>32</td>\n",
              "      <td>20</td>\n",
              "      <td>66</td>\n",
              "      <td>41</td>\n",
              "      <td>61</td>\n",
              "    </tr>\n",
              "    <tr>\n",
              "      <th>E</th>\n",
              "      <td>58</td>\n",
              "      <td>9</td>\n",
              "      <td>19</td>\n",
              "      <td>2</td>\n",
              "      <td>37</td>\n",
              "    </tr>\n",
              "  </tbody>\n",
              "</table>\n",
              "</div>"
            ],
            "text/plain": [
              "   Course1  Course2  Course3  Course5  Course4\n",
              "A       71       47       37       75       87\n",
              "B       42       42       23       24       15\n",
              "C       30       73        6       82       25\n",
              "D       32       20       66       41       61\n",
              "E       58        9       19        2       37"
            ]
          },
          "metadata": {},
          "execution_count": 9
        }
      ]
    },
    {
      "cell_type": "code",
      "metadata": {
        "id": "FV-BjNUqEj_8"
      },
      "source": [
        ""
      ],
      "execution_count": null,
      "outputs": []
    }
  ]
}